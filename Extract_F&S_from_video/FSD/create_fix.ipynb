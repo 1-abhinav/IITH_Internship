{
 "cells": [
  {
   "cell_type": "code",
   "execution_count": 16,
   "metadata": {},
   "outputs": [
    {
     "name": "stdout",
     "output_type": "stream",
     "text": [
      "New CSV file 'new.csv' generated successfully.\n"
     ]
    }
   ],
   "source": [
    "import pandas as pd\n",
    "\n",
    "df1 = pd.read_csv('Driver_8_all_circles.csv')\n",
    "df2 = pd.read_csv('Driver_8_saccades.csv')\n",
    "\n",
    "blank_rows = df2[df2['X'].isnull() & df2['Y'].isnull() & df2['Radius'].isnull()]\n",
    "\n",
    "new_df = df1.copy()\n",
    "\n",
    "new_df.loc[df2.notnull().all(axis=1), ['X', 'Y', 'Radius']] = float('nan')\n",
    "\n",
    "new_df.to_csv('driver_8_fixation.csv', index=False)\n",
    "\n"
   ]
  },
  {
   "cell_type": "code",
   "execution_count": 17,
   "metadata": {},
   "outputs": [],
   "source": [
    "import pandas as pd\n",
    "\n",
    "def process_driver_data(driver_id):\n",
    "    for j in range (1,8):\n",
    "        df1 = pd.read_csv(f'Driver_{driver_id}_all_circles_{j}.csv')\n",
    "        df2 = pd.read_csv(f'Driver_{driver_id}_saccades_{j}.csv')\n",
    "        \n",
    "\n",
    "        blank_rows = df2[df2['X'].isnull() & df2['Y'].isnull() & df2['Radius'].isnull()]\n",
    "        \n",
    "        \n",
    "        new_df = df1.copy()\n",
    "        \n",
    "        \n",
    "        new_df.loc[df2.notnull().all(axis=1), ['X', 'Y', 'Radius']] = float('nan')\n",
    "        \n",
    "        \n",
    "        new_df.to_csv(f'driver_{driver_id}_fixation_{j}.csv', index=False)\n",
    "\n",
    "\n",
    "for driver_id in range(1,48):\n",
    "    process_driver_data(driver_id)\n"
   ]
  }
 ],
 "metadata": {
  "kernelspec": {
   "display_name": "Python 3",
   "language": "python",
   "name": "python3"
  },
  "language_info": {
   "codemirror_mode": {
    "name": "ipython",
    "version": 3
   },
   "file_extension": ".py",
   "mimetype": "text/x-python",
   "name": "python",
   "nbconvert_exporter": "python",
   "pygments_lexer": "ipython3",
   "version": "3.12.4"
  }
 },
 "nbformat": 4,
 "nbformat_minor": 2
}
